{
 "cells": [
  {
   "cell_type": "code",
   "execution_count": 7,
   "id": "9ab98682",
   "metadata": {},
   "outputs": [],
   "source": [
    "import pandas as pd\n",
    "import numpy as np\n",
    "import sys\n",
    "import json\n",
    "import random \n",
    "import pickle\n",
    "import tensorflow as tf\n",
    "import nltk\n",
    "from nltk.stem import WordNetLemmatizer"
   ]
  },
  {
   "cell_type": "code",
   "execution_count": 9,
   "id": "2e721252",
   "metadata": {},
   "outputs": [],
   "source": [
    "data={\"intents\": [\n",
    "        {\"tag\": \"greeting\",\n",
    "         \"patterns\": [\"Hi there\", \"How are you\", \"Is anyone there?\",\"Hey\",\"Hola\", \"Hello\", \"Good day\"],\n",
    "         \"responses\": [\"Hello\", \"Good to see you again\", \"Hi there, how can I help?\"],\n",
    "         \"context\": [\"\"]\n",
    "        },\n",
    "        {\"tag\": \"goodbye\",\n",
    "         \"patterns\": [\"Bye\", \"See you later\", \"Goodbye\", \"Nice chatting to you, bye\", \"Till next time\"],\n",
    "         \"responses\": [\"See you!\", \"Have a nice day\", \"Bye! Come back again soon.\"],\n",
    "         \"context\": [\"\"]\n",
    "        },\n",
    "        {\"tag\": \"thanks\",\n",
    "         \"patterns\": [\"Thanks\", \"Thank you\", \"That's helpful\", \"Awesome, thanks\", \"Thanks for helping me\"],\n",
    "         \"responses\": [\"My pleasure\", \"You're Welcome\"],\n",
    "         \"context\": [\"\"]\n",
    "        },\n",
    "        {\"tag\": \"query\",\n",
    "         \"patterns\": [\"What is Simplilearn?\"],\n",
    "         \"responses\": [\"Simplilearn is the popular online Bootcamp & online courses learning platform \"],\n",
    "         \"context\": [\"\"]\n",
    "        } \n",
    "    ]}"
   ]
  },
  {
   "cell_type": "code",
   "execution_count": 17,
   "id": "c7601289",
   "metadata": {},
   "outputs": [
    {
     "name": "stdout",
     "output_type": "stream",
     "text": [
      "{'intents': [{'tag': 'greeting', 'patterns': ['Hi there', 'How are you', 'Is anyone there?', 'Hey', 'Hola', 'Hello', 'Good day'], 'responses': ['Hello', 'Good to see you again', 'Hi there, how can I help?'], 'context': ['']}, {'tag': 'goodbye', 'patterns': ['Bye', 'See you later', 'Goodbye', 'Nice chatting to you, bye', 'Till next time'], 'responses': ['See you!', 'Have a nice day', 'Bye! Come back again soon.'], 'context': ['']}, {'tag': 'thanks', 'patterns': ['Thanks', 'Thank you', \"That's helpful\", 'Awesome, thanks', 'Thanks for helping me'], 'responses': ['My pleasure', \"You're Welcome\"], 'context': ['']}, {'tag': 'query', 'patterns': ['What is Simplilearn?'], 'responses': ['Simplilearn is the popular online Bootcamp & online courses learning platform '], 'context': ['']}]}\n"
     ]
    }
   ],
   "source": [
    "with open ('intents.json', 'w') as file:\n",
    "    json.dump(data, file)\n",
    "with open ('intents.json', 'r') as file:\n",
    "    intents=json.load(file)\n",
    "print(intents)"
   ]
  },
  {
   "cell_type": "code",
   "execution_count": 19,
   "id": "15bd7244",
   "metadata": {},
   "outputs": [],
   "source": [
    "# read the existing json file\n",
    "# intents= json.load(open('intents.json').read())"
   ]
  },
  {
   "cell_type": "code",
   "execution_count": 15,
   "id": "fde92415",
   "metadata": {},
   "outputs": [],
   "source": [
    "words=[]\n",
    "classes=[]\n",
    "documents=[]\n",
    "ignoreletters=['?','!','.',',']"
   ]
  },
  {
   "cell_type": "code",
   "execution_count": 22,
   "id": "fb2d5b9e",
   "metadata": {},
   "outputs": [],
   "source": [
    "for intent in intents['intents']:\n",
    "    for pattern in intent:\n",
    "        wordList=nltk.word_tokenize(pattern)\n",
    "        words.extend(wordList)\n",
    "        documents.append((wordList, intent['tag']))\n",
    "        if intent['tag'] not in classes:\n",
    "            classes.append(intent['tag'])\n",
    "            "
   ]
  },
  {
   "cell_type": "code",
   "execution_count": 29,
   "id": "a0b3fe15",
   "metadata": {},
   "outputs": [
    {
     "name": "stdout",
     "output_type": "stream",
     "text": [
      "['tag']\n",
      "['patterns']\n",
      "['responses']\n",
      "['context']\n",
      "['tag']\n",
      "['patterns']\n",
      "['responses']\n",
      "['context']\n",
      "['tag']\n",
      "['patterns']\n",
      "['responses']\n",
      "['context']\n",
      "['tag']\n",
      "['patterns']\n",
      "['responses']\n",
      "['context']\n"
     ]
    }
   ],
   "source": [
    "for intent in intents['intents']:\n",
    "    for pattern in intent:\n",
    "        wordList=nltk.word_tokenize(pattern)\n",
    "        print(wordList)"
   ]
  },
  {
   "cell_type": "code",
   "execution_count": 28,
   "id": "06f7a73a",
   "metadata": {},
   "outputs": [
    {
     "name": "stdout",
     "output_type": "stream",
     "text": [
      "['tag', 'tag', 'tag', 'patterns', 'responses', 'context', 'tag', 'patterns', 'responses', 'context', 'tag', 'patterns', 'responses', 'context', 'tag', 'patterns', 'responses', 'context']\n",
      "##################################################\n",
      "['greeting', 'goodbye', 'thanks', 'query']\n",
      "##################################################\n",
      "[(['tag'], 'greeting'), (['tag'], 'greeting'), (['tag'], 'greeting'), (['patterns'], 'greeting'), (['responses'], 'greeting'), (['context'], 'greeting'), (['tag'], 'goodbye'), (['patterns'], 'goodbye'), (['responses'], 'goodbye'), (['context'], 'goodbye'), (['tag'], 'thanks'), (['patterns'], 'thanks'), (['responses'], 'thanks'), (['context'], 'thanks'), (['tag'], 'query'), (['patterns'], 'query'), (['responses'], 'query'), (['context'], 'query')]\n"
     ]
    }
   ],
   "source": [
    "\n",
    "print(words)\n",
    "print(\"#\"*50)\n",
    "print(classes)\n",
    "print(\"#\"*50)\n",
    "print(documents)"
   ]
  },
  {
   "cell_type": "code",
   "execution_count": null,
   "id": "0ef483a7",
   "metadata": {},
   "outputs": [],
   "source": [
    "lemmatizer=WordNetLemmatizer()\n",
    "words=lemmatizer"
   ]
  }
 ],
 "metadata": {
  "kernelspec": {
   "display_name": "Python 3 (ipykernel)",
   "language": "python",
   "name": "python3"
  },
  "language_info": {
   "codemirror_mode": {
    "name": "ipython",
    "version": 3
   },
   "file_extension": ".py",
   "mimetype": "text/x-python",
   "name": "python",
   "nbconvert_exporter": "python",
   "pygments_lexer": "ipython3",
   "version": "3.11.4"
  }
 },
 "nbformat": 4,
 "nbformat_minor": 5
}
